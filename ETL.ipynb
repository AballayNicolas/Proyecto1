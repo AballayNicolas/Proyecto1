{
 "cells": [
  {
   "cell_type": "code",
   "execution_count": null,
   "metadata": {},
   "outputs": [],
   "source": [
    "import pandas as pd \n",
    "from pandas import json_normalize\n",
    "import json as js \n",
    "import ast as ast\n",
    "import numpy as np\n",
    "import re\n",
    "import gzip\n",
    "\n",
    "# Creamos objetos con la rutas de los archivos\n",
    "archivo1 = r'C:/Users/aball/OneDrive/Escritorio/Proyecto 1/Datasets/json/australian_users_items.json' \n",
    "\n",
    "archivo2 = r\"C:/Users/aball/OneDrive/Escritorio/Proyecto1/Datasets/json/australian_user_reviews.json\" \n",
    "\n",
    "archivo3 = r\"C:/Users/aball/OneDrive/Escritorio/Proyecto 1/Datasets/gz/steam_games.json.gz\""
   ]
  },
  {
   "cell_type": "code",
   "execution_count": null,
   "metadata": {},
   "outputs": [],
   "source": [
    "# Cargamos el archivo json a una lista vacia para convertirlo a DataFrame\n",
    "\n",
    "lista= []\n",
    "\n",
    "with open(archivo1, encoding='utf-8') as file:\n",
    "    for line in file.readlines():\n",
    "        lista.append(ast.literal_eval(line)) \n",
    "\n",
    "# Creamos el DataFrame con la lista Recien creada\n",
    "df  = pd.DataFrame(lista) "
   ]
  },
  {
   "cell_type": "code",
   "execution_count": null,
   "metadata": {},
   "outputs": [],
   "source": [
    "# Desanidamos la columna \"items\" para su posterior uso\n",
    "df_items = df.explode('items') "
   ]
  },
  {
   "cell_type": "code",
   "execution_count": null,
   "metadata": {},
   "outputs": [],
   "source": [
    "# Reseteamos el indice para evitar problemas\n",
    "df_items.reset_index(drop=True, inplace=True) "
   ]
  },
  {
   "cell_type": "code",
   "execution_count": null,
   "metadata": {},
   "outputs": [],
   "source": [
    "# Normalizamos la columna \"items\" para su posterior uso\n",
    "df_items_Normalizado = json_normalize(df_items['items']) "
   ]
  },
  {
   "cell_type": "code",
   "execution_count": null,
   "metadata": {},
   "outputs": [],
   "source": [
    "# Quitamos la columna \"items\" del DataFrame original y combinamos con el df normalizado\n",
    "df3 = pd.concat([df_items.drop(columns=['items']), df_items_Normalizado], axis=1) "
   ]
  },
  {
   "cell_type": "code",
   "execution_count": null,
   "metadata": {},
   "outputs": [],
   "source": [
    "# Pasamos el Dataframe normalizado a CSV para su posterior uso\n",
    "df3.to_csv('user_items_normalizado.csv', index=False) "
   ]
  },
  {
   "cell_type": "code",
   "execution_count": null,
   "metadata": {},
   "outputs": [],
   "source": [
    "# Creamos una lista vacia donde almacenaremos las filas del archivo json\n",
    "lista= []\n",
    "\n",
    "with open(archivo2, encoding='utf-8') as file:\n",
    "    for line in file.readlines():\n",
    "        lista.append(ast.literal_eval(line))\n",
    "\n",
    "# Creamos un DataFrame con la lista recientemente llena \n",
    "df  = pd.DataFrame(lista) "
   ]
  },
  {
   "cell_type": "code",
   "execution_count": null,
   "metadata": {},
   "outputs": [],
   "source": [
    "# Desanidamos la columna \"reviews\" para su posterior uso\n",
    "df_reviews = df.explode(\"reviews\") "
   ]
  },
  {
   "cell_type": "code",
   "execution_count": null,
   "metadata": {},
   "outputs": [],
   "source": [
    "# Reseteamos el indice para evitar problemas a futuro\n",
    "df_reviews.reset_index(drop=True, inplace=True) "
   ]
  },
  {
   "cell_type": "code",
   "execution_count": null,
   "metadata": {},
   "outputs": [],
   "source": [
    "# Normalizamos la columna \"reviews\" para su posterior uso\n",
    "df_reviews_Normalizado =json_normalize(df_reviews['reviews']) "
   ]
  },
  {
   "cell_type": "code",
   "execution_count": null,
   "metadata": {},
   "outputs": [],
   "source": [
    "# Quitamos la columna \"reviews\" del Dataframe original y combinamos con el df normalizado\n",
    "df_revieww = pd.concat([df_reviews.drop(columns=['reviews']), df_reviews_Normalizado], axis=1) "
   ]
  },
  {
   "cell_type": "code",
   "execution_count": null,
   "metadata": {},
   "outputs": [],
   "source": [
    "# Quitamos columnas que no nos van a servir\n",
    "columnas = [\"funny\", \"last_edited\",\"helpful\"] \n",
    "df_review = df_revieww.drop(columns=columnas) "
   ]
  },
  {
   "cell_type": "code",
   "execution_count": null,
   "metadata": {},
   "outputs": [],
   "source": [
    "# Pasamos el Dataframe normalizado a CSV para su posterior uso\n",
    "df_review.to_csv('user_reviews_normalizado.csv', index=False) "
   ]
  },
  {
   "cell_type": "code",
   "execution_count": null,
   "metadata": {},
   "outputs": [],
   "source": [
    "# Creamos una lista vacia donde almacenaremos las filas del archivo json\n",
    "lista = []\n",
    "with gzip.open(archivo3, 'rt', encoding='utf-8') as file:\n",
    "    for line in file:\n",
    "        lista.append(js.loads(line))\n",
    "\n",
    "\n",
    "# Creamos un DataFrame con la lista recientemente llena \n",
    "df = pd.DataFrame(lista)"
   ]
  },
  {
   "cell_type": "code",
   "execution_count": null,
   "metadata": {},
   "outputs": [],
   "source": [
    "# Seleccinamos solamente los no nulos\n",
    "df_games = df.iloc[88310:]"
   ]
  },
  {
   "cell_type": "code",
   "execution_count": null,
   "metadata": {},
   "outputs": [],
   "source": [
    "# Ordenamos el Dataframe\n",
    "df_ordenado = [\"id\",\"title\",\"app_name\",\"developer\",\"genres\",\"specs\",\"tags\",\"price\",\"publisher\",\"url\",\"release_date\",\"reviews_url\",\"early_access\"]\n",
    "\n",
    "df2 = df_games[df_ordenado]"
   ]
  },
  {
   "cell_type": "code",
   "execution_count": null,
   "metadata": {},
   "outputs": [],
   "source": [
    "# Rellenamos valores faltantes de la columna \"app_name\" con la columna \"title\"\n",
    "df2['app_name'] = df2['app_name'].combine_first(df2['title']) \n",
    "\n",
    "# Rellenamos valores nulos de la columna \"developer\" con la columna \"publisher\" \n",
    "df2['developer'].fillna(df2['publisher'], inplace=True)  \n",
    "\n",
    "# Rellenamos valores nulos de la columna \"genres\" con la columna \"tags\"\n",
    "df2['genres'].fillna(df2['tags'], inplace=True) \n",
    "df2['tags'].fillna(df2['genres'], inplace=True)\n",
    "\n",
    "# Convertimos la columna a string\n",
    "df2['genres'] = df2['genres'].astype(str)\n",
    "\n",
    "# Eliminamos \"Free to Play\" y los caracteres no deseados de la columna \"genres\"\n",
    "# Eliminamos todas las ocurrencias de \"Free to Play\" y formatear la columna \"genres\"\n",
    "df2['genres'] = df2['genres'].str.replace(\"'Free to Play',\", \"\", regex=False)\n",
    "df2['genres'] = df2['genres'].str.replace(\", 'Free to Play'\", \"\", regex=False)\n",
    "df2['genres'] = df2['genres'].str.replace(\"'Free to Play'\", \"\", regex=False)\n",
    "\n",
    "# Eliminamos los corchetes, comillas simples y comillas dobles, y espacios adicionales\n",
    "df2['genres'] = df2['genres'].str.replace(\"[\", \"\", regex=False)\\\n",
    "                             .str.replace(\"]\", \"\", regex=False)\\\n",
    "                             .str.replace(\"'\", \"\", regex=False)\\\n",
    "                             .str.replace('\"', \"\", regex=False)\\\n",
    "                             .str.strip()\n",
    "\n",
    "# Separar los géneros por coma y tomar el primer valor\n",
    "df2['genres'] = df2['genres'].str.split(',').str[0]\n",
    "\n",
    "\n",
    " # Convertimos el tipo de dato de esta columna para poder hacer modificaciones\n",
    "df2['price'] = df2['price'].astype(str)\n",
    "\n",
    "# Reemplazamos todos los valores que significan lo mismo por un unico valor \"Free to Play\"\n",
    "df2['price'] = df2['price'].replace(['Free','Play for Free', 'Free to Try', 'Play for Free!', 'Free to Use','Free Demo'], 'Free to Play') \n",
    "\n",
    "# Limpiamos el DataFrame\n",
    "columnas = [\"title\",\"specs\",\"publisher\",\"url\",\"reviews_url\",\"early_access\"]\n",
    "df2 = df2.drop(columns=columnas, axis=1)"
   ]
  },
  {
   "cell_type": "code",
   "execution_count": null,
   "metadata": {},
   "outputs": [],
   "source": [
    "# Pasamos el DataFrame normalizado a CSV para su posterior uso\n",
    "df2.to_csv('steam_games_normalizado.csv', index=False) "
   ]
  }
 ],
 "metadata": {
  "kernelspec": {
   "display_name": "fastapi-env",
   "language": "python",
   "name": "python3"
  },
  "language_info": {
   "name": "python",
   "version": "3.12.7"
  }
 },
 "nbformat": 4,
 "nbformat_minor": 2
}
