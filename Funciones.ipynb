{
 "cells": [
  {
   "cell_type": "code",
   "execution_count": null,
   "metadata": {},
   "outputs": [],
   "source": [
    "import pandas as pd"
   ]
  },
  {
   "cell_type": "code",
   "execution_count": null,
   "metadata": {},
   "outputs": [],
   "source": [
    "from fastapi import FastAPI, HTTPException\n",
    "from fastapi.responses import JSONResponse\n",
    "import pandas as pd\n",
    "from sklearn.feature_extraction.text import CountVectorizer\n",
    "from sklearn.metrics.pairwise import cosine_similarity\n",
    "\n",
    "app = FastAPI()\n",
    "\n",
    "# Cargar el archivo CSV y crear la matriz de géneros\n",
    "archivo = r'Datasets/csv/steam_games_normalizado.csv'\n",
    "df_games = pd.read_csv(archivo)\n",
    "df_subset = df_games.head(20000)  # Hacemos un recorte más pequeño del dataframe\n",
    "\n",
    "# Usamos CountVectorizer para convertir los géneros a una matriz de conteo\n",
    "vectorizer = CountVectorizer(tokenizer=lambda x: x.split(', '))\n",
    "genres_matrix = vectorizer.fit_transform(df_subset['genres'])\n",
    "\n",
    "# Calcular la matriz de similitud del coseno\n",
    "cosine_sim = cosine_similarity(genres_matrix)\n",
    "\n",
    "@app.get(\"/recomendaciones/\")\n",
    "def obtener_similitud_juego(nombre_juego: str, n_recomendaciones: int = 5):\n",
    "    \"\"\"\n",
    "    Retorna una lista de juegos similares al nombre de juego dado, utilizando la similitud de coseno en los géneros.\n",
    "\n",
    "    Parámetros:\n",
    "    - nombre_juego: Nombre del juego para el cual buscar recomendaciones (str).\n",
    "    - n_recomendaciones: Número de recomendaciones a devolver (int, por defecto 5).\n",
    "\n",
    "    Retorna:\n",
    "    - JSONResponse con una lista de juegos recomendados.\n",
    "    \"\"\"\n",
    "    try:\n",
    "        # Verificar si el juego existe en el dataframe\n",
    "        if nombre_juego not in df_subset['app_name'].values:\n",
    "            return JSONResponse(\n",
    "                content={\"error\": f\"El juego '{nombre_juego}' no se encuentra en la base de datos.\"},\n",
    "                status_code=404\n",
    "            )\n",
    "\n",
    "        # Obtener el índice del juego especificado\n",
    "        idx = df_subset[df_subset['app_name'] == nombre_juego].index[0]\n",
    "\n",
    "        # Obtener el vector del juego especificado y calcular las similitudes\n",
    "        juego_vector = genres_matrix[idx]\n",
    "        similitudes = cosine_similarity(juego_vector, genres_matrix).flatten()\n",
    "\n",
    "        # Ordenar los índices de juegos similares y obtener los n_recomendaciones más altos\n",
    "        indices_similares = similitudes.argsort()[-(n_recomendaciones + 1):-1][::-1]\n",
    "\n",
    "        # Obtener los nombres de los juegos similares\n",
    "        juegos_similares = df_subset.iloc[indices_similares]['app_name'].tolist()\n",
    "\n",
    "        # Preparar la respuesta como JSON\n",
    "        result = {\n",
    "            \"Juego Base\": nombre_juego,\n",
    "            \"Recomendaciones\": juegos_similares\n",
    "        }\n",
    "\n",
    "        return JSONResponse(content=result)\n",
    "\n",
    "    except Exception as e:\n",
    "        return JSONResponse(\n",
    "            content={\"error\": f\"Ocurrió un error: {str(e)}\"},\n",
    "            status_code=500\n",
    "        )\n"
   ]
  }
 ],
 "metadata": {
  "kernelspec": {
   "display_name": "fastapi-env",
   "language": "python",
   "name": "python3"
  },
  "language_info": {
   "codemirror_mode": {
    "name": "ipython",
    "version": 3
   },
   "file_extension": ".py",
   "mimetype": "text/x-python",
   "name": "python",
   "nbconvert_exporter": "python",
   "pygments_lexer": "ipython3",
   "version": "3.12.7"
  }
 },
 "nbformat": 4,
 "nbformat_minor": 2
}
