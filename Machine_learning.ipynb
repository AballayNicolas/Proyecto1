{
 "cells": [
  {
   "cell_type": "code",
   "execution_count": 1,
   "metadata": {},
   "outputs": [],
   "source": [
    "import pandas as pd\n",
    "import random\n",
    "import numpy as np\n",
    "from sklearn.feature_extraction.text import CountVectorizer\n",
    "from sklearn.metrics.pairwise import cosine_similarity\n",
    "\n",
    "archivo = r'Datasets/csv/steam_games_normalizado.csv'"
   ]
  },
  {
   "cell_type": "code",
   "execution_count": 2,
   "metadata": {},
   "outputs": [],
   "source": [
    "# Creamos Datasets\n",
    "df_games = pd.read_csv(archivo)"
   ]
  },
  {
   "cell_type": "code",
   "execution_count": 3,
   "metadata": {},
   "outputs": [],
   "source": [
    "# Hacemos un recorte mas pequeño del dataframe\n",
    "df_subset = df_games.head(20000)"
   ]
  },
  {
   "cell_type": "code",
   "execution_count": 4,
   "metadata": {},
   "outputs": [
    {
     "name": "stderr",
     "output_type": "stream",
     "text": [
      "C:\\Users\\aball\\AppData\\Local\\Packages\\PythonSoftwareFoundation.Python.3.12_qbz5n2kfra8p0\\LocalCache\\local-packages\\Python312\\site-packages\\sklearn\\feature_extraction\\text.py:523: UserWarning: The parameter 'token_pattern' will not be used since 'tokenizer' is not None'\n",
      "  warnings.warn(\n"
     ]
    }
   ],
   "source": [
    "# Usamos CountVectorizer para convertir los géneros a una matriz de conteo\n",
    "vectorizer = CountVectorizer(tokenizer=lambda x: x.split(', '))  \n",
    "genres_matrix = vectorizer.fit_transform(df_subset['genres'])\n"
   ]
  },
  {
   "cell_type": "code",
   "execution_count": 5,
   "metadata": {},
   "outputs": [],
   "source": [
    "# Calcular la matriz de similitud del coseno\n",
    "cosine_sim = cosine_similarity(genres_matrix)"
   ]
  },
  {
   "cell_type": "code",
   "execution_count": 6,
   "metadata": {},
   "outputs": [],
   "source": [
    "# Creamos una funcion para calcular similitud del coseno del juego especificado y retornar titulos similares\n",
    "def obtener_similitud_juego(nombre_juego, n_recomendaciones=5):\n",
    "   \n",
    "    idx = df_subset[df_subset['app_name'] == nombre_juego].index[0]\n",
    "    \n",
    "    juego_vector = genres_matrix[idx]\n",
    "    similitudes = cosine_similarity(juego_vector, genres_matrix).flatten()\n",
    "    \n",
    "    indices_similares = similitudes.argsort()[-(n_recomendaciones+1):-1][::-1]\n",
    " \n",
    "    return df_subset.iloc[indices_similares]['app_name']"
   ]
  },
  {
   "cell_type": "code",
   "execution_count": 11,
   "metadata": {},
   "outputs": [
    {
     "name": "stdout",
     "output_type": "stream",
     "text": [
      "Recomendaciones para 'Grand Theft Auto: San Andreas':\n",
      "10             Uncanny Islands\n",
      "5        Battle Royale Trainer\n",
      "4                Log Challenge\n",
      "3                      弹炸人2222\n",
      "0          Lost Summoner Kitty\n",
      "19982             OneManVurgeR\n",
      "47        Darkness and a Crowd\n",
      "Name: app_name, dtype: object\n"
     ]
    }
   ],
   "source": [
    "# Testeo : Recomendar juegos similares a \"Lost Summoner Kitty \"\n",
    "print(\"Recomendaciones para 'Grand Theft Auto: San Andreas':\")\n",
    "print(obtener_similitud_juego('Grand Theft Auto: San Andreas'))"
   ]
  }
 ],
 "metadata": {
  "kernelspec": {
   "display_name": "fastapi-env",
   "language": "python",
   "name": "python3"
  },
  "language_info": {
   "codemirror_mode": {
    "name": "ipython",
    "version": 3
   },
   "file_extension": ".py",
   "mimetype": "text/x-python",
   "name": "python",
   "nbconvert_exporter": "python",
   "pygments_lexer": "ipython3",
   "version": "3.12.7"
  }
 },
 "nbformat": 4,
 "nbformat_minor": 2
}
