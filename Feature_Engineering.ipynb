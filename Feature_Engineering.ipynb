{
 "cells": [
  {
   "cell_type": "markdown",
   "metadata": {},
   "source": [
    "Importamos las librerias a usar"
   ]
  },
  {
   "cell_type": "code",
   "execution_count": 1,
   "metadata": {},
   "outputs": [],
   "source": [
    "import pandas as pd\n",
    "from textblob import TextBlob\n",
    "import spacy\n",
    "import numpy as np\n",
    "\n",
    "# Creamos un objeto con la ruta del archivo\n",
    "archivo = r'Datasets/csv/user_reviews_normalizado.csv'\n"
   ]
  },
  {
   "cell_type": "code",
   "execution_count": 14,
   "metadata": {},
   "outputs": [],
   "source": [
    "df = pd.read_csv(archivo)\n",
    "df2 = df.copy()"
   ]
  },
  {
   "cell_type": "code",
   "execution_count": 15,
   "metadata": {},
   "outputs": [],
   "source": [
    "# Normalizar valores\n",
    "df2['review'] = df2['review'].replace(['10/10', '100/100'], 'Good', regex=True)\n",
    "\n",
    "# Transformar todos los datos a tipo string\n",
    "df2['review'] = df2['review'].astype(str)"
   ]
  },
  {
   "cell_type": "code",
   "execution_count": 16,
   "metadata": {},
   "outputs": [],
   "source": [
    "# Cargar el modelo de lenguaje\n",
    "nlp = spacy.load('en_core_web_sm')\n",
    "\n",
    "# Definimos función para procesar el texto\n",
    "def process_text_spacy(text):\n",
    "    doc = nlp(text)\n",
    "    tokens = [token.text for token in doc]\n",
    "    lemmatized_words = [token.lemma_ for token in doc]\n",
    "    return {\n",
    "        'tokens': tokens,\n",
    "        'lemmatized': ' '.join(lemmatized_words)\n",
    "    }\n",
    "\n",
    "# Aplicar la función a la columna 'review' del DataFrame\n",
    "df2[['tokens', 'lemmatized']] = df2['review'].apply(lambda x: pd.Series(process_text_spacy(x)))"
   ]
  },
  {
   "cell_type": "code",
   "execution_count": 17,
   "metadata": {},
   "outputs": [],
   "source": [
    "# Definimos la función de análisis de sentimiento\n",
    "def analizar_sentimiento(text, recommend):\n",
    "    if pd.isnull(text):\n",
    "        return 1  # Neutral si el texto es nulo\n",
    "\n",
    "    # Obtener la polaridad del análisis de sentimiento usando TextBlob\n",
    "    blob = TextBlob(text)\n",
    "    polaridad = blob.sentiment.polarity\n",
    "\n",
    "    # Ajustar la polaridad según el valor de 'recommend'\n",
    "    if recommend:\n",
    "        polaridad += 0.5\n",
    "    else:\n",
    "        polaridad -= 0.5\n",
    "\n",
    "    # Clasificar el sentimiento según la polaridad ajustada\n",
    "    if polaridad <= -0.05:\n",
    "        return 0  # Malo\n",
    "    elif polaridad >= 0.05:\n",
    "        return 2  # Bien\n",
    "    else:\n",
    "        return 1  # Neutral\n",
    "\n",
    "# Crear la columna 'analisis_sentimiento' en el DataFrame usando la nueva función\n",
    "df2['analisis_sentimiento'] = df2.apply(\n",
    "    lambda row: analizar_sentimiento(row['lemmatized'], row['recommend']), axis=1\n",
    ")\n",
    "\n",
    "# Eliminamos la columna 'lemmatized' y \"tokens\" que ya no son necesarias\n",
    "columnas= [\"lemmatized\", \"tokens\"]\n",
    "df2.drop(columns=columnas, inplace=True)"
   ]
  },
  {
   "cell_type": "code",
   "execution_count": 18,
   "metadata": {},
   "outputs": [
    {
     "name": "stdout",
     "output_type": "stream",
     "text": [
      "Conteo de reseñas con sentimiento negativo y recomendación positiva: 380\n",
      "Conteo de reseñas con sentimiento positivo y recomendación negativa: 905\n"
     ]
    }
   ],
   "source": [
    "# Reseñas con sentimiento positivo pero con una recomendación negativa.\n",
    "positivo_negativo = df2[(df2['analisis_sentimiento'] == 2) & (df2['recommend'] == False)]\n",
    "\n",
    "# Reseñas con sentimiento negativo pero con una recomendación positiva.\n",
    "negativo_positivo = df2[(df2['analisis_sentimiento'] == 0) & (df2['recommend'] == True)]\n",
    "\n",
    "# Conteo de reseñas con sentimiento positivo y recomendación negativa.\n",
    "total_positivos_negativos = len(positivo_negativo)\n",
    "\n",
    "# Conteo de reseñas con sentimiento negativo y recomendación positiva.\n",
    "total_negativos_positivos = len(negativo_positivo)\n",
    "\n",
    "print(\"Conteo de reseñas con sentimiento negativo y recomendación positiva:\", total_negativos_positivos)\n",
    "print(\"Conteo de reseñas con sentimiento positivo y recomendación negativa:\", total_positivos_negativos)"
   ]
  },
  {
   "cell_type": "code",
   "execution_count": 19,
   "metadata": {},
   "outputs": [
    {
     "name": "stdout",
     "output_type": "stream",
     "text": [
      "Porcentaje de errores: 2.1657425041713716\n"
     ]
    }
   ],
   "source": [
    "total_errores = 380 + 905\n",
    "total_filas = 59333\n",
    "porcentaje_error = (total_errores / total_filas) * 100\n",
    "\n",
    "print(\"Porcentaje de errores:\", porcentaje_error)"
   ]
  },
  {
   "cell_type": "code",
   "execution_count": 20,
   "metadata": {},
   "outputs": [],
   "source": [
    "df2.to_csv(\"user_reviews_Analisis_sentimientos.csv\", index=False)"
   ]
  }
 ],
 "metadata": {
  "kernelspec": {
   "display_name": "fastapi-env",
   "language": "python",
   "name": "python3"
  },
  "language_info": {
   "codemirror_mode": {
    "name": "ipython",
    "version": 3
   },
   "file_extension": ".py",
   "mimetype": "text/x-python",
   "name": "python",
   "nbconvert_exporter": "python",
   "pygments_lexer": "ipython3",
   "version": "3.12.7"
  }
 },
 "nbformat": 4,
 "nbformat_minor": 2
}
